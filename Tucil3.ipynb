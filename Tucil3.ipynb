{
 "cells": [
  {
   "cell_type": "code",
   "execution_count": null,
   "metadata": {
    "scrolled": false
   },
   "outputs": [
    {
     "name": "stdout",
     "output_type": "stream",
     "text": [
      "1. Daerah sekitar ITB Ganesha \n",
      "2. Daerah sekitar Alun-Alun Bandung\n",
      "3. Daerah sekitar Buah Batu, Bandung\n",
      "4\n"
     ]
    }
   ],
   "source": [
    "import math as m\n",
    "import networkx as nx\n",
    "import folium as fl\n",
    "\n",
    "\n",
    "#Tested and working, return dalam kilometers\n",
    "def distance (Lat1, Lng1, Lat2, Lng2):\n",
    "    r = 6371 #radius bumi\n",
    "    Lat1=m.radians(float(Lat1))    \n",
    "    Lat2=m.radians(float(Lat2))    \n",
    "    Lng1=m.radians(float(Lng1))    \n",
    "    Lng2=m.radians(float(Lng2))    \n",
    "    dlat = (Lat1-Lat2)\n",
    "    dlng = (Lng1-Lng2)\n",
    "    return 2*r*(m.asin((m.sqrt(m.sin(dlng/2)**2 + m.cos(Lat1)*m.cos(Lat2)*m.sin(dlat/2)**2))))   \n",
    "\n",
    "#//////////////////////////////////////////////\n",
    "\n",
    "print(\"1. Daerah sekitar ITB Ganesha \")\n",
    "print(\"2. Daerah sekitar Alun-Alun Bandung\")\n",
    "print(\"3. Daerah sekitar Buah Batu, Bandung\")\n",
    "print(\"4\")\n",
    "\n",
    "\n",
    "KoorFile = input(\"Masukkan nama file koordinat (tulis tanpa .txt) : \")\n",
    "filename = \"./src/\"+KoorFile+\".txt\"\n",
    "f = open(filename, \"r\")\n",
    "file_contents = f.read().splitlines()\n",
    "f.close()\n",
    "\n",
    "temp=[]\n",
    "for i in file_contents:\n",
    "    temp+=i.split()\n",
    "\n",
    "lat=[]\n",
    "lng=[]\n",
    "name=[]\n",
    "for i in range (0, len(temp)):\n",
    "    if i%3==0:\n",
    "        lat+=[temp[i]]\n",
    "    elif i%3==1:\n",
    "        lng+=[temp[i]]\n",
    "    elif i%3==2:\n",
    "        name+=[temp[i]]\n",
    "\n",
    "\n",
    "AdjFile = input(\"Masukkan file adjacency matrix (tulis tanpa .txt) : \")\n",
    "filename2=\"./src/\"+AdjFile+\".txt\"\n",
    "f = open(filename2, \"r\")\n",
    "file_contents2 = f.read().splitlines()\n",
    "f.close()\n",
    "\n",
    "for i in file_contents2:\n",
    "    i=i.split()\n",
    "\n",
    "AdjMatrix = []\n",
    "for i in range (0, len(file_contents2)):\n",
    "    AdjMatrix+=[file_contents2[i].split()]\n",
    "\n",
    "\n",
    "for i in range (0, len(AdjMatrix)):\n",
    "    for j in range (0, len(AdjMatrix[i])):\n",
    "        if(AdjMatrix[i][j]=='1'):\n",
    "            AdjMatrix[i][j]=distance(lat[i], lng[i], lat[j], lng[j])\n",
    "\n",
    "\n",
    "Map = fl.Map(location=[-6.935373, 107.633486], width=800, height=512, zoom_start=15)\n",
    "\n",
    "for i in range(0, len(name)):\n",
    "    fl.Marker(\n",
    "        location=[float(lat[i]), float(lng[i])],\n",
    "        popup=name[i],\n",
    "        icon=fl.Icon(color=\"blue\"),\n",
    "    ).add_to(Map)\n",
    "\n",
    "Map\n"
   ]
  },
  {
   "cell_type": "code",
   "execution_count": null,
   "metadata": {
    "scrolled": true
   },
   "outputs": [],
   "source": [
    "\n",
    "\n",
    "print(\"Daftar persimpangan: \")\n",
    "for i in range(0, len(name)):\n",
    "    print(i+1, end=\". \")\n",
    "    print(name[i])\n",
    "NodeSrc = input(\"Masukkan persimpangan awal : \")\n",
    "NodeDst = input(\"Masukkan persimpangan tujuan  :\")"
   ]
  },
  {
   "cell_type": "code",
   "execution_count": null,
   "metadata": {},
   "outputs": [],
   "source": []
  }
 ],
 "metadata": {
  "kernelspec": {
   "display_name": "Python 3",
   "language": "python",
   "name": "python3"
  },
  "language_info": {
   "codemirror_mode": {
    "name": "ipython",
    "version": 3
   },
   "file_extension": ".py",
   "mimetype": "text/x-python",
   "name": "python",
   "nbconvert_exporter": "python",
   "pygments_lexer": "ipython3",
   "version": "3.7.3"
  }
 },
 "nbformat": 4,
 "nbformat_minor": 2
}
